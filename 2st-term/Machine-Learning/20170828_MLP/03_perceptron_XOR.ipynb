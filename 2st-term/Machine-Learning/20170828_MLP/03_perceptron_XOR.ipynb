{
 "cells": [
  {
   "cell_type": "code",
   "execution_count": 1,
   "metadata": {
    "collapsed": true
   },
   "outputs": [],
   "source": [
    "import tensorflow as tf\n",
    "import math"
   ]
  },
  {
   "cell_type": "code",
   "execution_count": 2,
   "metadata": {},
   "outputs": [],
   "source": [
    "### define graph\n",
    "X = tf.placeholder(tf.float32, shape=(None, 2), name = 'x-input')\n",
    "y = tf.placeholder(tf.float32, shape=(None, 1), name = 'y-input')\n",
    "\n",
    "W1 = tf.Variable(\n",
    "    tf.random_uniform(shape=(2, 2), minval=-1, maxval=1), \n",
    "    dtype=tf.float32, \n",
    "    name=\"W1\")\n",
    "b1 = tf.Variable(\n",
    "    tf.zeros(shape=(1)), \n",
    "    dtype=tf.float32, \n",
    "    name=\"b1\")\n",
    "\n",
    "W2 = tf.Variable(\n",
    "    tf.random_uniform(shape=(2, 1), minval=-1, maxval=1),\n",
    "    dtype=tf.float32,\n",
    "    name=\"W2\") \n",
    "b2 = tf.Variable(\n",
    "    tf.zeros(shape=(1)),\n",
    "    dtype=tf.float32,\n",
    "    name='b2')\n",
    "\n",
    "layer1 = tf.sigmoid(tf.add(tf.matmul(X, W1), b1))\n",
    "logits = tf.sigmoid(tf.add(tf.matmul(layer1, W2), b2))"
   ]
  },
  {
   "cell_type": "code",
   "execution_count": 3,
   "metadata": {
    "collapsed": true
   },
   "outputs": [],
   "source": [
    "### define loss function\n",
    "# prevent nan loss\n",
    "epsilon = 1e-10 \n",
    "loss = tf.reduce_mean( \n",
    "  -1 * y * tf.log(logits + epsilon) - \n",
    "  (1 - y) * tf.log(1 - logits + epsilon) )"
   ]
  },
  {
   "cell_type": "code",
   "execution_count": 4,
   "metadata": {
    "collapsed": true
   },
   "outputs": [],
   "source": [
    "### define optimization function\n",
    "learning_rate = 0.1\n",
    "op = tf.train.GradientDescentOptimizer(learning_rate)\n",
    "train_step = op.minimize(loss)"
   ]
  },
  {
   "cell_type": "code",
   "execution_count": 5,
   "metadata": {
    "collapsed": true
   },
   "outputs": [],
   "source": [
    "### define input data\n",
    "DATA = {\n",
    "  'X': [[0,0],[0,1],[1,0],[1,1]],\n",
    "  'Y': [[0],[1],[1],[0]]\n",
    "}"
   ]
  },
  {
   "cell_type": "code",
   "execution_count": 6,
   "metadata": {},
   "outputs": [
    {
     "name": "stdout",
     "output_type": "stream",
     "text": [
      "0: 0.6957998871803284\n",
      "1000: 0.6903829574584961\n",
      "2000: 0.6734319925308228\n",
      "3000: 0.602495551109314\n",
      "4000: 0.5441569089889526\n",
      "5000: 0.5190227627754211\n",
      "6000: 0.5067995190620422\n",
      "7000: 0.49984779953956604\n",
      "8000: 0.4954341650009155\n",
      "9000: 0.4924086332321167\n",
      "10000: 0.4902164340019226\n",
      "11000: 0.4885602593421936\n",
      "12000: 0.48726826906204224\n",
      "13000: 0.48623374104499817\n",
      "14000: 0.48538801074028015\n",
      "15000: 0.4846843481063843\n",
      "16000: 0.4840903580188751\n",
      "17000: 0.48358261585235596\n",
      "18000: 0.48314353823661804\n",
      "19000: 0.4827607572078705\n",
      "20000: 0.4824240505695343\n",
      "21000: 0.48212555050849915\n",
      "22000: 0.4818592369556427\n",
      "23000: 0.4816204309463501\n",
      "24000: 0.4814050793647766\n",
      "25000: 0.48120975494384766\n",
      "26000: 0.4810319244861603\n",
      "27000: 0.48086944222450256\n",
      "28000: 0.48072025179862976\n",
      "29000: 0.4805830121040344\n"
     ]
    }
   ],
   "source": [
    "### Starting sessions\n",
    "with tf.Session() as sess:\n",
    "  init = tf.global_variables_initializer()\n",
    "  sess.run(init)\n",
    "\n",
    "  max_iter = 30000\n",
    "\n",
    "  for i in range(max_iter):\n",
    "    _, loss_val = sess.run([train_step, loss], feed_dict={X: DATA['X'], y: DATA['Y']})\n",
    "    \n",
    "    if i % 1000 == 0:\n",
    "      print('{}: {}'.format(i, loss_val))\n",
    "\n",
    "    if math.isnan(loss_val):\n",
    "      print('LOSS is NAN!')\n",
    "      break"
   ]
  },
  {
   "cell_type": "code",
   "execution_count": null,
   "metadata": {
    "collapsed": true
   },
   "outputs": [],
   "source": []
  }
 ],
 "metadata": {
  "kernelspec": {
   "display_name": "Python 3",
   "language": "python",
   "name": "python3"
  },
  "language_info": {
   "codemirror_mode": {
    "name": "ipython",
    "version": 3
   },
   "file_extension": ".py",
   "mimetype": "text/x-python",
   "name": "python",
   "nbconvert_exporter": "python",
   "pygments_lexer": "ipython3",
   "version": "3.6.1"
  }
 },
 "nbformat": 4,
 "nbformat_minor": 2
}
