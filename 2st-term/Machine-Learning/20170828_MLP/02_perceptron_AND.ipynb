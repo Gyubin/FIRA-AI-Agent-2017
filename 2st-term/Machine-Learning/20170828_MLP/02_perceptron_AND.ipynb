{
 "cells": [
  {
   "cell_type": "code",
   "execution_count": 1,
   "metadata": {
    "collapsed": true
   },
   "outputs": [],
   "source": [
    "import tensorflow as tf\n",
    "import math"
   ]
  },
  {
   "cell_type": "code",
   "execution_count": 2,
   "metadata": {
    "collapsed": true
   },
   "outputs": [],
   "source": [
    "### define graph\n",
    "x = tf.placeholder(tf.float32, shape=(None, 2), name = 'x-input')\n",
    "y = tf.placeholder(tf.float32, shape=(None, 1), name = 'y-input')\n",
    "\n",
    "v_weight = tf.Variable(\n",
    "  tf.random_uniform(shape=(2, 1), minval=-1, maxval=1), \n",
    "  dtype=tf.float32, \n",
    "  name = \"W\")\n",
    "v_bias = tf.Variable(\n",
    "  tf.zeros(shape=(1)), \n",
    "  dtype=tf.float32, \n",
    "  name = \"w0\")\n",
    "\n",
    "y_h = tf.sigmoid( tf.matmul(x, v_weight) + v_bias )"
   ]
  },
  {
   "cell_type": "code",
   "execution_count": 3,
   "metadata": {
    "collapsed": true
   },
   "outputs": [],
   "source": [
    "### define loss function\n",
    "# prevent nan loss\n",
    "epsilon = 1e-10 \n",
    "loss = tf.reduce_mean( \n",
    "  -1 * y * tf.log(y_h + epsilon) - \n",
    "  (1 - y) * tf.log(1 - y_h + epsilon) )"
   ]
  },
  {
   "cell_type": "code",
   "execution_count": 4,
   "metadata": {
    "collapsed": true
   },
   "outputs": [],
   "source": [
    "### define optimization function\n",
    "learning_rate = 0.1\n",
    "op = tf.train.GradientDescentOptimizer(learning_rate)\n",
    "train_step = op.minimize(loss)"
   ]
  },
  {
   "cell_type": "code",
   "execution_count": 5,
   "metadata": {
    "collapsed": true
   },
   "outputs": [],
   "source": [
    "### define input data\n",
    "DATA = {\n",
    "  'X': [[0,0],[0,1],[1,0],[1,1]],\n",
    "  'Y': [[0],[0],[0],[1]]\n",
    "}"
   ]
  },
  {
   "cell_type": "code",
   "execution_count": 6,
   "metadata": {},
   "outputs": [
    {
     "name": "stdout",
     "output_type": "stream",
     "text": [
      "0: [[ 0.5],[ 0.72478288],[ 0.42186752],[ 0.65773124]], 0.7375633120536804\n",
      "1000: [[ 0.00793467],[ 0.14869829],[ 0.14649986],[ 0.78941101]], 0.14095818996429443\n",
      "2000: [[ 0.00138519],[ 0.08943185],[ 0.08931756],[ 0.87412602]], 0.08079112321138382\n",
      "3000: [[ 0.00044651],[ 0.06336029],[ 0.06334563],[ 0.91104174]], 0.05612765997648239\n",
      "4000: [[ 0.00019374],[ 0.04883239],[ 0.04882948],[ 0.93151164]], 0.04281681776046753\n",
      "5000: [[ 0.00010014],[ 0.03962968],[ 0.03962887],[ 0.94444895]], 0.034531399607658386\n",
      "6000: [[  5.80788655e-05],[ 0.03330026],[ 0.03329989],[ 0.95333594]], 0.028895067051053047\n",
      "7000: [[  3.65360538e-05],[ 0.02868992],[ 0.02868984],[ 0.95980442]], 0.024820316582918167\n",
      "8000: [[  2.44153853e-05],[ 0.02518698],[ 0.02518695],[ 0.96471703]], 0.02174101024866104\n",
      "9000: [[  1.70943804e-05],[ 0.02243775],[ 0.02243774],[ 0.96857148]], 0.019334178417921066\n"
     ]
    }
   ],
   "source": [
    "### Starting sessions\n",
    "with tf.Session() as sess:\n",
    "  init = tf.global_variables_initializer()\n",
    "  sess.run(init)\n",
    "\n",
    "  max_iter = 10000\n",
    "\n",
    "  for i in range(max_iter):\n",
    "    _, v_w_val, v_b_val, y_h_val, loss_val = sess.run(\n",
    "      [train_step, v_weight, v_bias, y_h, loss], \n",
    "      feed_dict={x: DATA['X'], y: DATA['Y']})\n",
    "    \n",
    "    if i % 1000 == 0:\n",
    "      print('{}: [{},{},{},{}], {}'.format(i, *y_h_val, loss_val))\n",
    "#       print('Epoch ', i)\n",
    "#       print('Y_prediction ', y_h_val)\n",
    "#       print('True', DATA['Y'])\n",
    "#       print('Loss', loss_val)\n",
    "#       print('Weight', v_w_val)\n",
    "#       print('Bias', v_b_val)\n",
    "\n",
    "    if math.isnan(loss_val):\n",
    "      print('LOSS is NAN!')\n",
    "      break"
   ]
  },
  {
   "cell_type": "code",
   "execution_count": null,
   "metadata": {
    "collapsed": true
   },
   "outputs": [],
   "source": []
  }
 ],
 "metadata": {
  "kernelspec": {
   "display_name": "Python 3",
   "language": "python",
   "name": "python3"
  },
  "language_info": {
   "codemirror_mode": {
    "name": "ipython",
    "version": 3
   },
   "file_extension": ".py",
   "mimetype": "text/x-python",
   "name": "python",
   "nbconvert_exporter": "python",
   "pygments_lexer": "ipython3",
   "version": "3.6.1"
  }
 },
 "nbformat": 4,
 "nbformat_minor": 2
}
