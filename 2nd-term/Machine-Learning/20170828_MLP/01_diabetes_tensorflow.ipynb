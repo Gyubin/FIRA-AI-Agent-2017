{
 "cells": [
  {
   "cell_type": "code",
   "execution_count": 1,
   "metadata": {
    "collapsed": true
   },
   "outputs": [],
   "source": [
    "import tensorflow as tf\n",
    "import numpy as np\n",
    "from sklearn import datasets"
   ]
  },
  {
   "cell_type": "code",
   "execution_count": 2,
   "metadata": {},
   "outputs": [
    {
     "name": "stdout",
     "output_type": "stream",
     "text": [
      "(442, 10)\n",
      "(442,)\n"
     ]
    }
   ],
   "source": [
    "# Load the diabetes dataset\n",
    "diabetes = datasets.load_diabetes()\n",
    "\n",
    "# diabetes has two attributes: data, target\n",
    "print(diabetes.data.shape)\n",
    "print(diabetes.target.shape)"
   ]
  },
  {
   "cell_type": "code",
   "execution_count": 3,
   "metadata": {
    "collapsed": true
   },
   "outputs": [],
   "source": [
    "# Use only one feature\n",
    "diabetes_X = diabetes.data[:, 2:3]\n",
    "n_features = diabetes_X.shape[1]"
   ]
  },
  {
   "cell_type": "code",
   "execution_count": 4,
   "metadata": {
    "collapsed": true
   },
   "outputs": [],
   "source": [
    "# Split the data into training/testing sets\n",
    "diabetes_X_train = diabetes_X[:-20]\n",
    "diabetes_X_test = diabetes_X[-20:]\n",
    "\n",
    "# Split the targets into training/testing sets\n",
    "diabetes_y_train = diabetes.target[:-20].reshape(-1, 1)\n",
    "diabetes_y_test = diabetes.target[-20:].reshape(-1, 1)"
   ]
  },
  {
   "cell_type": "code",
   "execution_count": 5,
   "metadata": {
    "collapsed": true
   },
   "outputs": [],
   "source": [
    "X = tf.placeholder(tf.float32, shape=[None, n_features], name='X')\n",
    "y = tf.placeholder(tf.float32, shape=[None, 1], name='y')"
   ]
  },
  {
   "cell_type": "code",
   "execution_count": 6,
   "metadata": {
    "collapsed": true
   },
   "outputs": [],
   "source": [
    "W = tf.Variable(\n",
    "    tf.random_uniform(shape=(n_features, 1), minval=-1, maxval=1),\n",
    "    dtype=tf.float32,\n",
    "    name='W'\n",
    ")\n",
    "b = tf.Variable(\n",
    "    tf.zeros(shape=(1)),\n",
    "    dtype=tf.float32,\n",
    "    name='b'\n",
    ")\n",
    "y_hat = tf.matmul(X, W) + b"
   ]
  },
  {
   "cell_type": "code",
   "execution_count": 7,
   "metadata": {
    "collapsed": true
   },
   "outputs": [],
   "source": [
    "loss = tf.reduce_mean(tf.square(y_hat - y))\n",
    "# loss = tf.reduce_sum(tf.pow(y_h-y, 2))/(n_samples * 2)\n",
    "lr = 0.1\n",
    "op = tf.train.GradientDescentOptimizer(learning_rate=lr)\n",
    "step = op.minimize(loss)"
   ]
  },
  {
   "cell_type": "code",
   "execution_count": 8,
   "metadata": {},
   "outputs": [
    {
     "name": "stdout",
     "output_type": "stream",
     "text": [
      "[[-0.16571379]] 29469.4\n",
      "[[ 341.74380493]] 4760.8\n",
      "[[ 559.04864502]] 4280.64\n",
      "[[ 697.18774414]] 4086.61\n",
      "[[ 785.00305176]] 4008.2\n",
      "[[ 840.8269043]] 3976.51\n",
      "[[ 876.31414795]] 3963.7\n",
      "[[ 898.87341309]] 3958.53\n",
      "[[ 913.21380615]] 3956.44\n",
      "[[ 922.33007812]] 3955.59\n",
      "[[ 928.12530518]] 3955.25\n",
      "[[ 931.80926514]] 3955.11\n",
      "[[ 934.15130615]] 3955.06\n",
      "[[ 935.63977051]] 3955.04\n",
      "[[ 936.5859375]] 3955.03\n",
      "[[ 937.18707275]] 3955.02\n",
      "[[ 937.56835938]] 3955.02\n",
      "[[ 937.8104248]] 3955.02\n",
      "[[ 937.96270752]] 3955.02\n",
      "[[ 938.06030273]] 3955.02\n",
      "[[ 938.12133789]] 3955.02\n",
      "[[ 938.17053223]] 3955.02\n",
      "[[ 938.17053223]] 3955.02\n",
      "[[ 938.17053223]] 3955.02\n",
      "[[ 938.17053223]] 3955.02\n"
     ]
    }
   ],
   "source": [
    "with tf.Session() as sess:\n",
    "    max_iter = 25000\n",
    "    sess.run(tf.global_variables_initializer())\n",
    "    for i in range(max_iter):\n",
    "        _, ww, bb, yhyh, loss_eval = sess.run([step, W, b, y_hat, loss], feed_dict={X:diabetes_X_train, y:diabetes_y_train})\n",
    "        if i % 1000 == 0:\n",
    "            print(ww, loss_eval)"
   ]
  },
  {
   "cell_type": "code",
   "execution_count": null,
   "metadata": {
    "collapsed": true
   },
   "outputs": [],
   "source": []
  }
 ],
 "metadata": {
  "kernelspec": {
   "display_name": "Python 3",
   "language": "python",
   "name": "python3"
  },
  "language_info": {
   "codemirror_mode": {
    "name": "ipython",
    "version": 3
   },
   "file_extension": ".py",
   "mimetype": "text/x-python",
   "name": "python",
   "nbconvert_exporter": "python",
   "pygments_lexer": "ipython3",
   "version": "3.6.1"
  }
 },
 "nbformat": 4,
 "nbformat_minor": 2
}
